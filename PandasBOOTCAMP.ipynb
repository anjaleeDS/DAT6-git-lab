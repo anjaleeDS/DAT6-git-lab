{
  "nbformat": 4,
  "nbformat_minor": 0,
  "metadata": {
    "colab": {
      "name": "PandasBOOTCAMP.ipynb",
      "provenance": [],
      "authorship_tag": "ABX9TyMDf6BjVUOtI+YjNCrUCYUe",
      "include_colab_link": true
    },
    "kernelspec": {
      "name": "python3",
      "display_name": "Python 3"
    }
  },
  "cells": [
    {
      "cell_type": "markdown",
      "metadata": {
        "id": "view-in-github",
        "colab_type": "text"
      },
      "source": [
        "<a href=\"https://colab.research.google.com/github/anjaleeDS/DAT6-git-lab/blob/master/PandasBOOTCAMP.ipynb\" target=\"_parent\"><img src=\"https://colab.research.google.com/assets/colab-badge.svg\" alt=\"Open In Colab\"/></a>"
      ]
    },
    {
      "cell_type": "code",
      "metadata": {
        "id": "gty9s7h3eKoG",
        "colab_type": "code",
        "outputId": "2e673296-2a8f-4ed5-c849-9871a35914e2",
        "colab": {
          "base_uri": "https://localhost:8080/",
          "height": 71
        }
      },
      "source": [
        "import seaborn as sns\n",
        "import matplotlib.pyplot as plt\n",
        "import pandas as pd\n",
        "import numpy as np\n",
        "\n",
        "tips_data = sns.load_dataset(\"tips\") # sns has loaded as a panda dataframe (pd) "
      ],
      "execution_count": 0,
      "outputs": [
        {
          "output_type": "stream",
          "text": [
            "/usr/local/lib/python3.6/dist-packages/statsmodels/tools/_testing.py:19: FutureWarning: pandas.util.testing is deprecated. Use the functions in the public API at pandas.testing instead.\n",
            "  import pandas.util.testing as tm\n"
          ],
          "name": "stderr"
        }
      ]
    },
    {
      "cell_type": "markdown",
      "metadata": {
        "id": "Pq1M_H0nixZK",
        "colab_type": "text"
      },
      "source": [
        "# Notes\n",
        "\n",
        "- pandas is like a spreadsheet\n",
        "- a series == a column in pandas\n",
        "- dependent on RAM, parallel processing on python"
      ]
    },
    {
      "cell_type": "markdown",
      "metadata": {
        "id": "JM8lK6Ttgk1B",
        "colab_type": "text"
      },
      "source": [
        "## Tips Dataset Exploration"
      ]
    },
    {
      "cell_type": "code",
      "metadata": {
        "id": "UOQsXJxRgkAG",
        "colab_type": "code",
        "outputId": "65f3d73a-fd3e-49b8-81ef-29e298541132",
        "colab": {
          "base_uri": "https://localhost:8080/",
          "height": 281
        }
      },
      "source": [
        "tips_data.columns\n",
        "tips_data.shape # tells the number of rows and columns\n",
        "tips_data.head() # defaults to 5. this is a named argument\n",
        "tips_data.describe() # only shows the numeric columns and some of the information about "
      ],
      "execution_count": 0,
      "outputs": [
        {
          "output_type": "execute_result",
          "data": {
            "text/html": [
              "<div>\n",
              "<style scoped>\n",
              "    .dataframe tbody tr th:only-of-type {\n",
              "        vertical-align: middle;\n",
              "    }\n",
              "\n",
              "    .dataframe tbody tr th {\n",
              "        vertical-align: top;\n",
              "    }\n",
              "\n",
              "    .dataframe thead th {\n",
              "        text-align: right;\n",
              "    }\n",
              "</style>\n",
              "<table border=\"1\" class=\"dataframe\">\n",
              "  <thead>\n",
              "    <tr style=\"text-align: right;\">\n",
              "      <th></th>\n",
              "      <th>total_bill</th>\n",
              "      <th>tip</th>\n",
              "      <th>size</th>\n",
              "    </tr>\n",
              "  </thead>\n",
              "  <tbody>\n",
              "    <tr>\n",
              "      <th>count</th>\n",
              "      <td>244.000000</td>\n",
              "      <td>244.000000</td>\n",
              "      <td>244.000000</td>\n",
              "    </tr>\n",
              "    <tr>\n",
              "      <th>mean</th>\n",
              "      <td>19.785943</td>\n",
              "      <td>2.998279</td>\n",
              "      <td>2.569672</td>\n",
              "    </tr>\n",
              "    <tr>\n",
              "      <th>std</th>\n",
              "      <td>8.902412</td>\n",
              "      <td>1.383638</td>\n",
              "      <td>0.951100</td>\n",
              "    </tr>\n",
              "    <tr>\n",
              "      <th>min</th>\n",
              "      <td>3.070000</td>\n",
              "      <td>1.000000</td>\n",
              "      <td>1.000000</td>\n",
              "    </tr>\n",
              "    <tr>\n",
              "      <th>25%</th>\n",
              "      <td>13.347500</td>\n",
              "      <td>2.000000</td>\n",
              "      <td>2.000000</td>\n",
              "    </tr>\n",
              "    <tr>\n",
              "      <th>50%</th>\n",
              "      <td>17.795000</td>\n",
              "      <td>2.900000</td>\n",
              "      <td>2.000000</td>\n",
              "    </tr>\n",
              "    <tr>\n",
              "      <th>75%</th>\n",
              "      <td>24.127500</td>\n",
              "      <td>3.562500</td>\n",
              "      <td>3.000000</td>\n",
              "    </tr>\n",
              "    <tr>\n",
              "      <th>max</th>\n",
              "      <td>50.810000</td>\n",
              "      <td>10.000000</td>\n",
              "      <td>6.000000</td>\n",
              "    </tr>\n",
              "  </tbody>\n",
              "</table>\n",
              "</div>"
            ],
            "text/plain": [
              "       total_bill         tip        size\n",
              "count  244.000000  244.000000  244.000000\n",
              "mean    19.785943    2.998279    2.569672\n",
              "std      8.902412    1.383638    0.951100\n",
              "min      3.070000    1.000000    1.000000\n",
              "25%     13.347500    2.000000    2.000000\n",
              "50%     17.795000    2.900000    2.000000\n",
              "75%     24.127500    3.562500    3.000000\n",
              "max     50.810000   10.000000    6.000000"
            ]
          },
          "metadata": {
            "tags": []
          },
          "execution_count": 5
        }
      ]
    },
    {
      "cell_type": "code",
      "metadata": {
        "id": "Dtd_NyCJmDFd",
        "colab_type": "code",
        "colab": {}
      },
      "source": [
        "tips_data.isnull() # same as isna! checks df for any NaNs\n",
        "tips_data.info() # this infers types and also counts the null values by showing the \"Non-Null Count\"\n",
        "tips_data.tip # is the same as tips_data['tip']"
      ],
      "execution_count": 0,
      "outputs": []
    },
    {
      "cell_type": "code",
      "metadata": {
        "id": "pyDxX4sFplnS",
        "colab_type": "code",
        "colab": {}
      },
      "source": [
        "tips_total_df = tips_data[['tip', 'total_bill']]\n",
        "tips_data[['tip', 'total_bill']].describe() # chaining in practice\n",
        "tips_total_df.sum() # gives the sum of the columns\n"
      ],
      "execution_count": 0,
      "outputs": []
    },
    {
      "cell_type": "code",
      "metadata": {
        "id": "f9MuVJzjsxoT",
        "colab_type": "code",
        "colab": {}
      },
      "source": [
        "tips_total_df.total_bill.iloc[4]    # index location 4\n",
        "np.log(tips_total_df.total_bill)    # get log for all the values in tips_total_df\n",
        "\n",
        "tips_total_df.total_bill.apply(np.log) # this is the same is np.log(tips_total_df.total_bill) \n",
        "    # but the .apply is the important part\n",
        "tips_total_df.apply(np.log) # APPLY CAN PASS ANY COLUMNS OR ALL COLUMNS THROUGH \n",
        "    # TO THE FUNCTION WHERE AS IF YOU USE np.log IT'S ONLY APPLIED TO ONE COLUMNN "
      ],
      "execution_count": 0,
      "outputs": []
    },
    {
      "cell_type": "code",
      "metadata": {
        "id": "XMkX_oQju7zE",
        "colab_type": "code",
        "outputId": "2ddc105d-b43e-4614-fffd-868abdd760f9",
        "colab": {
          "base_uri": "https://localhost:8080/",
          "height": 103
        }
      },
      "source": [
        "tips_total_df.total_bill.iloc[3] = 0    # setting values within the df. BEWARE!!! DON'T OVERWRITE\n",
        "tips_total_df_copied = tips_total_df.copy  # GOOD HOUSEKEEPING - make a copy to \n",
        "    # be sure you don't change anything in the original values"
      ],
      "execution_count": 0,
      "outputs": [
        {
          "output_type": "stream",
          "text": [
            "/usr/local/lib/python3.6/dist-packages/ipykernel_launcher.py:1: SettingWithCopyWarning: \n",
            "A value is trying to be set on a copy of a slice from a DataFrame\n",
            "\n",
            "See the caveats in the documentation: https://pandas.pydata.org/pandas-docs/stable/user_guide/indexing.html#returning-a-view-versus-a-copy\n",
            "  \"\"\"Entry point for launching an IPython kernel.\n"
          ],
          "name": "stderr"
        }
      ]
    },
    {
      "cell_type": "code",
      "metadata": {
        "id": "_ZCp2keXv35-",
        "colab_type": "code",
        "colab": {}
      },
      "source": [
        "# creating new column\n",
        "tips_total_df['tip_frac'] = tips_total_df.tip / tips_total_df.total_bill\n",
        "tips_total_df.head()\n",
        "tips_total_df.apply(np.isfinite) # pandas doesnt have the check inf function \n",
        "  # but numpy does, so you just use the xyz_df.APPLY(NUMPY.FUNCTION)"
      ],
      "execution_count": 0,
      "outputs": []
    },
    {
      "cell_type": "code",
      "metadata": {
        "id": "Fj4xHjBYxX6J",
        "colab_type": "code",
        "colab": {}
      },
      "source": [
        "tips_total_df[tips_total_df.tip_frac.apply(np.isfinite)] # only show the values that is FINITE -- NO MORE [3]!"
      ],
      "execution_count": 0,
      "outputs": []
    },
    {
      "cell_type": "code",
      "metadata": {
        "id": "Ky0SAmPtxpc8",
        "colab_type": "code",
        "colab": {}
      },
      "source": [
        "tips_total_df = tips_total_df.reset_index() # get the [3] back"
      ],
      "execution_count": 0,
      "outputs": []
    },
    {
      "cell_type": "markdown",
      "metadata": {
        "id": "aI6JwvmI2EUS",
        "colab_type": "text"
      },
      "source": [
        "## Stock data set"
      ]
    },
    {
      "cell_type": "code",
      "metadata": {
        "id": "HUVoUWuq2C4S",
        "colab_type": "code",
        "colab": {}
      },
      "source": [
        "from vega_datasets import data\n",
        "\n",
        "stocks_data = data.stocks()\n",
        "stocks_data.head()\n",
        "stocks_data.info()\n",
        "stocks_data.symbol.value_counts() # just get the column/series symbol and the counts\n",
        "# doing a stocks_data.describe doesn't make sense because the symbol-values are mixed symbols"
      ],
      "execution_count": 0,
      "outputs": []
    },
    {
      "cell_type": "code",
      "metadata": {
        "id": "YbnlO2hu3S3Y",
        "colab_type": "code",
        "colab": {}
      },
      "source": [
        "# pivot tables: pivot requires one value per day with NO aggregations. pivot_table can give aggregates \n",
        "stocks_data_pivoted = stocks_data.pivot_table(index='date', columns='symbol', values='price', aggfunc='mean')\n",
        "stocks_data_pivoted.sort_index(ascending=False) # reverse chron since chron is the index=date\n",
        "stocks_data_pivoted.sort_values('AAPL', ascending=False)  # sort_values allows for selection and sort"
      ],
      "execution_count": 0,
      "outputs": []
    },
    {
      "cell_type": "code",
      "metadata": {
        "id": "_iZpjhT05H4l",
        "colab_type": "code",
        "outputId": "b4fe1c49-cde5-4c2b-963e-6f1406e598b6",
        "colab": {
          "base_uri": "https://localhost:8080/",
          "height": 428
        }
      },
      "source": [
        "stocks_data_pivoted.fillna(method='ffill')\n",
        "stocks_data_pivoted"
      ],
      "execution_count": 0,
      "outputs": [
        {
          "output_type": "execute_result",
          "data": {
            "text/html": [
              "<div>\n",
              "<style scoped>\n",
              "    .dataframe tbody tr th:only-of-type {\n",
              "        vertical-align: middle;\n",
              "    }\n",
              "\n",
              "    .dataframe tbody tr th {\n",
              "        vertical-align: top;\n",
              "    }\n",
              "\n",
              "    .dataframe thead th {\n",
              "        text-align: right;\n",
              "    }\n",
              "</style>\n",
              "<table border=\"1\" class=\"dataframe\">\n",
              "  <thead>\n",
              "    <tr style=\"text-align: right;\">\n",
              "      <th>symbol</th>\n",
              "      <th>AAPL</th>\n",
              "      <th>AMZN</th>\n",
              "      <th>GOOG</th>\n",
              "      <th>IBM</th>\n",
              "      <th>MSFT</th>\n",
              "    </tr>\n",
              "    <tr>\n",
              "      <th>date</th>\n",
              "      <th></th>\n",
              "      <th></th>\n",
              "      <th></th>\n",
              "      <th></th>\n",
              "      <th></th>\n",
              "    </tr>\n",
              "  </thead>\n",
              "  <tbody>\n",
              "    <tr>\n",
              "      <th>2000-01-01</th>\n",
              "      <td>25.94</td>\n",
              "      <td>64.56</td>\n",
              "      <td>NaN</td>\n",
              "      <td>100.52</td>\n",
              "      <td>39.81</td>\n",
              "    </tr>\n",
              "    <tr>\n",
              "      <th>2000-02-01</th>\n",
              "      <td>28.66</td>\n",
              "      <td>68.87</td>\n",
              "      <td>NaN</td>\n",
              "      <td>92.11</td>\n",
              "      <td>36.35</td>\n",
              "    </tr>\n",
              "    <tr>\n",
              "      <th>2000-03-01</th>\n",
              "      <td>33.95</td>\n",
              "      <td>67.00</td>\n",
              "      <td>NaN</td>\n",
              "      <td>106.11</td>\n",
              "      <td>43.22</td>\n",
              "    </tr>\n",
              "    <tr>\n",
              "      <th>2000-04-01</th>\n",
              "      <td>31.01</td>\n",
              "      <td>55.19</td>\n",
              "      <td>NaN</td>\n",
              "      <td>99.95</td>\n",
              "      <td>28.37</td>\n",
              "    </tr>\n",
              "    <tr>\n",
              "      <th>2000-05-01</th>\n",
              "      <td>21.00</td>\n",
              "      <td>48.31</td>\n",
              "      <td>NaN</td>\n",
              "      <td>96.31</td>\n",
              "      <td>25.45</td>\n",
              "    </tr>\n",
              "    <tr>\n",
              "      <th>...</th>\n",
              "      <td>...</td>\n",
              "      <td>...</td>\n",
              "      <td>...</td>\n",
              "      <td>...</td>\n",
              "      <td>...</td>\n",
              "    </tr>\n",
              "    <tr>\n",
              "      <th>2009-11-01</th>\n",
              "      <td>199.91</td>\n",
              "      <td>135.91</td>\n",
              "      <td>583.00</td>\n",
              "      <td>125.79</td>\n",
              "      <td>29.27</td>\n",
              "    </tr>\n",
              "    <tr>\n",
              "      <th>2009-12-01</th>\n",
              "      <td>210.73</td>\n",
              "      <td>134.52</td>\n",
              "      <td>619.98</td>\n",
              "      <td>130.32</td>\n",
              "      <td>30.34</td>\n",
              "    </tr>\n",
              "    <tr>\n",
              "      <th>2010-01-01</th>\n",
              "      <td>192.06</td>\n",
              "      <td>125.41</td>\n",
              "      <td>529.94</td>\n",
              "      <td>121.85</td>\n",
              "      <td>28.05</td>\n",
              "    </tr>\n",
              "    <tr>\n",
              "      <th>2010-02-01</th>\n",
              "      <td>204.62</td>\n",
              "      <td>118.40</td>\n",
              "      <td>526.80</td>\n",
              "      <td>127.16</td>\n",
              "      <td>28.67</td>\n",
              "    </tr>\n",
              "    <tr>\n",
              "      <th>2010-03-01</th>\n",
              "      <td>223.02</td>\n",
              "      <td>128.82</td>\n",
              "      <td>560.19</td>\n",
              "      <td>125.55</td>\n",
              "      <td>28.80</td>\n",
              "    </tr>\n",
              "  </tbody>\n",
              "</table>\n",
              "<p>123 rows × 5 columns</p>\n",
              "</div>"
            ],
            "text/plain": [
              "symbol        AAPL    AMZN    GOOG     IBM   MSFT\n",
              "date                                             \n",
              "2000-01-01   25.94   64.56     NaN  100.52  39.81\n",
              "2000-02-01   28.66   68.87     NaN   92.11  36.35\n",
              "2000-03-01   33.95   67.00     NaN  106.11  43.22\n",
              "2000-04-01   31.01   55.19     NaN   99.95  28.37\n",
              "2000-05-01   21.00   48.31     NaN   96.31  25.45\n",
              "...            ...     ...     ...     ...    ...\n",
              "2009-11-01  199.91  135.91  583.00  125.79  29.27\n",
              "2009-12-01  210.73  134.52  619.98  130.32  30.34\n",
              "2010-01-01  192.06  125.41  529.94  121.85  28.05\n",
              "2010-02-01  204.62  118.40  526.80  127.16  28.67\n",
              "2010-03-01  223.02  128.82  560.19  125.55  28.80\n",
              "\n",
              "[123 rows x 5 columns]"
            ]
          },
          "metadata": {
            "tags": []
          },
          "execution_count": 79
        }
      ]
    },
    {
      "cell_type": "code",
      "metadata": {
        "id": "fYdoZDS_N4di",
        "colab_type": "code",
        "colab": {}
      },
      "source": [
        "stocks_data_pivoted = stocks_data.pivot_table(index='date', columns='symbol', values='price', aggfunc='mean')\n",
        "\n",
        "stocks_data_pivoted_pct_change = stocks_data_pivoted.pct_change()\n",
        "# stocks_data_pivoted.diff(1)\n",
        "stocks_data_pivoted_pct_change\n",
        "# st_pct_change = stocks_data_pivoted.pct_change()\n",
        "stocks_cum_sum =stocks_data_pivoted_pct_change.cumsum()"
      ],
      "execution_count": 0,
      "outputs": []
    },
    {
      "cell_type": "code",
      "metadata": {
        "id": "Xs8V0fZ67vc1",
        "colab_type": "code",
        "colab": {}
      },
      "source": [
        "# plot from the beginning of GOOG is not a nan\n",
        "stocks_data_pivoted[stocks_data_pivoted['GOOG'] > 0]\n",
        "# OR\n",
        "stocks_data_pivoted[stocks_data_pivoted['GOOG'].isna() != True]"
      ],
      "execution_count": 0,
      "outputs": []
    },
    {
      "cell_type": "markdown",
      "metadata": {
        "id": "f-nhnBKF-Tra",
        "colab_type": "text"
      },
      "source": [
        "### MELT DATA"
      ]
    },
    {
      "cell_type": "code",
      "metadata": {
        "id": "-cLGnJyc8tM-",
        "colab_type": "code",
        "colab": {}
      },
      "source": [
        "# how do we go back to original format? IT'S CALLED A FLATTENED DATA STRUCTURE\n",
        "# tableau works better when it's flattened\n",
        "# hue also only works with flattened data\n",
        "# flatted aka \"MELTED\" for pandas\n",
        "\n",
        "# MELT DATA!\n",
        "\n",
        "# first make the date index it's own column so we can get index back\n",
        "stocks_data_pivoted = stocks_data_pivoted.reset_index() # this will add a new index to the df\n",
        "stocks_data_pivoted.head()"
      ],
      "execution_count": 0,
      "outputs": []
    },
    {
      "cell_type": "code",
      "metadata": {
        "id": "JFsABKvzBrBI",
        "colab_type": "code",
        "outputId": "2fb9c0ad-22e5-4650-8e22-453d434a912a",
        "colab": {
          "base_uri": "https://localhost:8080/",
          "height": 398
        }
      },
      "source": [
        "stocks_data_pivoted.melt(id_vars='date', value_name='price', value_vars=['AAPL', 'AMZN'])"
      ],
      "execution_count": 0,
      "outputs": [
        {
          "output_type": "execute_result",
          "data": {
            "text/html": [
              "<div>\n",
              "<style scoped>\n",
              "    .dataframe tbody tr th:only-of-type {\n",
              "        vertical-align: middle;\n",
              "    }\n",
              "\n",
              "    .dataframe tbody tr th {\n",
              "        vertical-align: top;\n",
              "    }\n",
              "\n",
              "    .dataframe thead th {\n",
              "        text-align: right;\n",
              "    }\n",
              "</style>\n",
              "<table border=\"1\" class=\"dataframe\">\n",
              "  <thead>\n",
              "    <tr style=\"text-align: right;\">\n",
              "      <th></th>\n",
              "      <th>date</th>\n",
              "      <th>symbol</th>\n",
              "      <th>price</th>\n",
              "    </tr>\n",
              "  </thead>\n",
              "  <tbody>\n",
              "    <tr>\n",
              "      <th>0</th>\n",
              "      <td>2000-01-01</td>\n",
              "      <td>AAPL</td>\n",
              "      <td>25.94</td>\n",
              "    </tr>\n",
              "    <tr>\n",
              "      <th>1</th>\n",
              "      <td>2000-02-01</td>\n",
              "      <td>AAPL</td>\n",
              "      <td>28.66</td>\n",
              "    </tr>\n",
              "    <tr>\n",
              "      <th>2</th>\n",
              "      <td>2000-03-01</td>\n",
              "      <td>AAPL</td>\n",
              "      <td>33.95</td>\n",
              "    </tr>\n",
              "    <tr>\n",
              "      <th>3</th>\n",
              "      <td>2000-04-01</td>\n",
              "      <td>AAPL</td>\n",
              "      <td>31.01</td>\n",
              "    </tr>\n",
              "    <tr>\n",
              "      <th>4</th>\n",
              "      <td>2000-05-01</td>\n",
              "      <td>AAPL</td>\n",
              "      <td>21.00</td>\n",
              "    </tr>\n",
              "    <tr>\n",
              "      <th>...</th>\n",
              "      <td>...</td>\n",
              "      <td>...</td>\n",
              "      <td>...</td>\n",
              "    </tr>\n",
              "    <tr>\n",
              "      <th>241</th>\n",
              "      <td>2009-11-01</td>\n",
              "      <td>AMZN</td>\n",
              "      <td>135.91</td>\n",
              "    </tr>\n",
              "    <tr>\n",
              "      <th>242</th>\n",
              "      <td>2009-12-01</td>\n",
              "      <td>AMZN</td>\n",
              "      <td>134.52</td>\n",
              "    </tr>\n",
              "    <tr>\n",
              "      <th>243</th>\n",
              "      <td>2010-01-01</td>\n",
              "      <td>AMZN</td>\n",
              "      <td>125.41</td>\n",
              "    </tr>\n",
              "    <tr>\n",
              "      <th>244</th>\n",
              "      <td>2010-02-01</td>\n",
              "      <td>AMZN</td>\n",
              "      <td>118.40</td>\n",
              "    </tr>\n",
              "    <tr>\n",
              "      <th>245</th>\n",
              "      <td>2010-03-01</td>\n",
              "      <td>AMZN</td>\n",
              "      <td>128.82</td>\n",
              "    </tr>\n",
              "  </tbody>\n",
              "</table>\n",
              "<p>246 rows × 3 columns</p>\n",
              "</div>"
            ],
            "text/plain": [
              "          date symbol   price\n",
              "0   2000-01-01   AAPL   25.94\n",
              "1   2000-02-01   AAPL   28.66\n",
              "2   2000-03-01   AAPL   33.95\n",
              "3   2000-04-01   AAPL   31.01\n",
              "4   2000-05-01   AAPL   21.00\n",
              "..         ...    ...     ...\n",
              "241 2009-11-01   AMZN  135.91\n",
              "242 2009-12-01   AMZN  134.52\n",
              "243 2010-01-01   AMZN  125.41\n",
              "244 2010-02-01   AMZN  118.40\n",
              "245 2010-03-01   AMZN  128.82\n",
              "\n",
              "[246 rows x 3 columns]"
            ]
          },
          "metadata": {
            "tags": []
          },
          "execution_count": 83
        }
      ]
    },
    {
      "cell_type": "code",
      "metadata": {
        "id": "STmHiaWz-hHL",
        "colab_type": "code",
        "outputId": "9862f77d-3ffe-45d6-cc35-4b80d0c48afd",
        "colab": {
          "base_uri": "https://localhost:8080/",
          "height": 398
        }
      },
      "source": [
        "# # DELETING COLUMNS\n",
        "\n",
        "# del stocks_data_pivoted['level_0']\n",
        "# del stocks_data_pivoted['symbol']\n",
        "stocks_data_pivoted = stocks_data_pivoted.reset_index(drop=True)\n",
        "stocks_data_pivoted"
      ],
      "execution_count": 0,
      "outputs": [
        {
          "output_type": "execute_result",
          "data": {
            "text/html": [
              "<div>\n",
              "<style scoped>\n",
              "    .dataframe tbody tr th:only-of-type {\n",
              "        vertical-align: middle;\n",
              "    }\n",
              "\n",
              "    .dataframe tbody tr th {\n",
              "        vertical-align: top;\n",
              "    }\n",
              "\n",
              "    .dataframe thead th {\n",
              "        text-align: right;\n",
              "    }\n",
              "</style>\n",
              "<table border=\"1\" class=\"dataframe\">\n",
              "  <thead>\n",
              "    <tr style=\"text-align: right;\">\n",
              "      <th>symbol</th>\n",
              "      <th>index</th>\n",
              "      <th>date</th>\n",
              "      <th>AAPL</th>\n",
              "      <th>AMZN</th>\n",
              "      <th>GOOG</th>\n",
              "      <th>IBM</th>\n",
              "      <th>MSFT</th>\n",
              "    </tr>\n",
              "  </thead>\n",
              "  <tbody>\n",
              "    <tr>\n",
              "      <th>0</th>\n",
              "      <td>0</td>\n",
              "      <td>2000-01-01</td>\n",
              "      <td>25.94</td>\n",
              "      <td>64.56</td>\n",
              "      <td>NaN</td>\n",
              "      <td>100.52</td>\n",
              "      <td>39.81</td>\n",
              "    </tr>\n",
              "    <tr>\n",
              "      <th>1</th>\n",
              "      <td>1</td>\n",
              "      <td>2000-02-01</td>\n",
              "      <td>28.66</td>\n",
              "      <td>68.87</td>\n",
              "      <td>NaN</td>\n",
              "      <td>92.11</td>\n",
              "      <td>36.35</td>\n",
              "    </tr>\n",
              "    <tr>\n",
              "      <th>2</th>\n",
              "      <td>2</td>\n",
              "      <td>2000-03-01</td>\n",
              "      <td>33.95</td>\n",
              "      <td>67.00</td>\n",
              "      <td>NaN</td>\n",
              "      <td>106.11</td>\n",
              "      <td>43.22</td>\n",
              "    </tr>\n",
              "    <tr>\n",
              "      <th>3</th>\n",
              "      <td>3</td>\n",
              "      <td>2000-04-01</td>\n",
              "      <td>31.01</td>\n",
              "      <td>55.19</td>\n",
              "      <td>NaN</td>\n",
              "      <td>99.95</td>\n",
              "      <td>28.37</td>\n",
              "    </tr>\n",
              "    <tr>\n",
              "      <th>4</th>\n",
              "      <td>4</td>\n",
              "      <td>2000-05-01</td>\n",
              "      <td>21.00</td>\n",
              "      <td>48.31</td>\n",
              "      <td>NaN</td>\n",
              "      <td>96.31</td>\n",
              "      <td>25.45</td>\n",
              "    </tr>\n",
              "    <tr>\n",
              "      <th>...</th>\n",
              "      <td>...</td>\n",
              "      <td>...</td>\n",
              "      <td>...</td>\n",
              "      <td>...</td>\n",
              "      <td>...</td>\n",
              "      <td>...</td>\n",
              "      <td>...</td>\n",
              "    </tr>\n",
              "    <tr>\n",
              "      <th>118</th>\n",
              "      <td>118</td>\n",
              "      <td>2009-11-01</td>\n",
              "      <td>199.91</td>\n",
              "      <td>135.91</td>\n",
              "      <td>583.00</td>\n",
              "      <td>125.79</td>\n",
              "      <td>29.27</td>\n",
              "    </tr>\n",
              "    <tr>\n",
              "      <th>119</th>\n",
              "      <td>119</td>\n",
              "      <td>2009-12-01</td>\n",
              "      <td>210.73</td>\n",
              "      <td>134.52</td>\n",
              "      <td>619.98</td>\n",
              "      <td>130.32</td>\n",
              "      <td>30.34</td>\n",
              "    </tr>\n",
              "    <tr>\n",
              "      <th>120</th>\n",
              "      <td>120</td>\n",
              "      <td>2010-01-01</td>\n",
              "      <td>192.06</td>\n",
              "      <td>125.41</td>\n",
              "      <td>529.94</td>\n",
              "      <td>121.85</td>\n",
              "      <td>28.05</td>\n",
              "    </tr>\n",
              "    <tr>\n",
              "      <th>121</th>\n",
              "      <td>121</td>\n",
              "      <td>2010-02-01</td>\n",
              "      <td>204.62</td>\n",
              "      <td>118.40</td>\n",
              "      <td>526.80</td>\n",
              "      <td>127.16</td>\n",
              "      <td>28.67</td>\n",
              "    </tr>\n",
              "    <tr>\n",
              "      <th>122</th>\n",
              "      <td>122</td>\n",
              "      <td>2010-03-01</td>\n",
              "      <td>223.02</td>\n",
              "      <td>128.82</td>\n",
              "      <td>560.19</td>\n",
              "      <td>125.55</td>\n",
              "      <td>28.80</td>\n",
              "    </tr>\n",
              "  </tbody>\n",
              "</table>\n",
              "<p>123 rows × 7 columns</p>\n",
              "</div>"
            ],
            "text/plain": [
              "symbol  index       date    AAPL    AMZN    GOOG     IBM   MSFT\n",
              "0           0 2000-01-01   25.94   64.56     NaN  100.52  39.81\n",
              "1           1 2000-02-01   28.66   68.87     NaN   92.11  36.35\n",
              "2           2 2000-03-01   33.95   67.00     NaN  106.11  43.22\n",
              "3           3 2000-04-01   31.01   55.19     NaN   99.95  28.37\n",
              "4           4 2000-05-01   21.00   48.31     NaN   96.31  25.45\n",
              "..        ...        ...     ...     ...     ...     ...    ...\n",
              "118       118 2009-11-01  199.91  135.91  583.00  125.79  29.27\n",
              "119       119 2009-12-01  210.73  134.52  619.98  130.32  30.34\n",
              "120       120 2010-01-01  192.06  125.41  529.94  121.85  28.05\n",
              "121       121 2010-02-01  204.62  118.40  526.80  127.16  28.67\n",
              "122       122 2010-03-01  223.02  128.82  560.19  125.55  28.80\n",
              "\n",
              "[123 rows x 7 columns]"
            ]
          },
          "metadata": {
            "tags": []
          },
          "execution_count": 75
        }
      ]
    },
    {
      "cell_type": "markdown",
      "metadata": {
        "id": "oaMugwgkPoOr",
        "colab_type": "text"
      },
      "source": [
        "## Sales Data for join - DO THESE ON THE SQL SERVER WHEN POSSIBLE\n",
        "- join and merge is expensive in pandas\n",
        "- merge is more expensive than join since join uses index"
      ]
    },
    {
      "cell_type": "code",
      "metadata": {
        "id": "5woOpElVPvPX",
        "colab_type": "code",
        "outputId": "92f4d446-39df-439b-8af6-c894e34c9fea",
        "colab": {
          "base_uri": "https://localhost:8080/",
          "height": 193
        }
      },
      "source": [
        "sales_data = pd.read_csv('https://raw.githubusercontent.com/cjflanagan/sample_data/master/sales%20data-set.csv')\n",
        "stores_list = pd.read_csv('https://raw.githubusercontent.com/cjflanagan/sample_data/master/stores%20data-set.csv')\n",
        "\n",
        "sales_data.head()"
      ],
      "execution_count": 0,
      "outputs": [
        {
          "output_type": "execute_result",
          "data": {
            "text/html": [
              "<div>\n",
              "<style scoped>\n",
              "    .dataframe tbody tr th:only-of-type {\n",
              "        vertical-align: middle;\n",
              "    }\n",
              "\n",
              "    .dataframe tbody tr th {\n",
              "        vertical-align: top;\n",
              "    }\n",
              "\n",
              "    .dataframe thead th {\n",
              "        text-align: right;\n",
              "    }\n",
              "</style>\n",
              "<table border=\"1\" class=\"dataframe\">\n",
              "  <thead>\n",
              "    <tr style=\"text-align: right;\">\n",
              "      <th></th>\n",
              "      <th>Store</th>\n",
              "      <th>Dept</th>\n",
              "      <th>Date</th>\n",
              "      <th>Weekly_Sales</th>\n",
              "      <th>IsHoliday</th>\n",
              "    </tr>\n",
              "  </thead>\n",
              "  <tbody>\n",
              "    <tr>\n",
              "      <th>0</th>\n",
              "      <td>1</td>\n",
              "      <td>1</td>\n",
              "      <td>05/02/2010</td>\n",
              "      <td>24924.50</td>\n",
              "      <td>False</td>\n",
              "    </tr>\n",
              "    <tr>\n",
              "      <th>1</th>\n",
              "      <td>1</td>\n",
              "      <td>1</td>\n",
              "      <td>12/02/2010</td>\n",
              "      <td>46039.49</td>\n",
              "      <td>True</td>\n",
              "    </tr>\n",
              "    <tr>\n",
              "      <th>2</th>\n",
              "      <td>1</td>\n",
              "      <td>1</td>\n",
              "      <td>19/02/2010</td>\n",
              "      <td>41595.55</td>\n",
              "      <td>False</td>\n",
              "    </tr>\n",
              "    <tr>\n",
              "      <th>3</th>\n",
              "      <td>1</td>\n",
              "      <td>1</td>\n",
              "      <td>26/02/2010</td>\n",
              "      <td>19403.54</td>\n",
              "      <td>False</td>\n",
              "    </tr>\n",
              "    <tr>\n",
              "      <th>4</th>\n",
              "      <td>1</td>\n",
              "      <td>1</td>\n",
              "      <td>05/03/2010</td>\n",
              "      <td>21827.90</td>\n",
              "      <td>False</td>\n",
              "    </tr>\n",
              "  </tbody>\n",
              "</table>\n",
              "</div>"
            ],
            "text/plain": [
              "   Store  Dept        Date  Weekly_Sales  IsHoliday\n",
              "0      1     1  05/02/2010      24924.50      False\n",
              "1      1     1  12/02/2010      46039.49       True\n",
              "2      1     1  19/02/2010      41595.55      False\n",
              "3      1     1  26/02/2010      19403.54      False\n",
              "4      1     1  05/03/2010      21827.90      False"
            ]
          },
          "metadata": {
            "tags": []
          },
          "execution_count": 102
        }
      ]
    },
    {
      "cell_type": "code",
      "metadata": {
        "id": "Y9KUBnuuRU1u",
        "colab_type": "code",
        "outputId": "06ab7ac9-59d3-4a28-80cc-c5bd99372171",
        "colab": {
          "base_uri": "https://localhost:8080/",
          "height": 193
        }
      },
      "source": [
        "stores_list.head()"
      ],
      "execution_count": 0,
      "outputs": [
        {
          "output_type": "execute_result",
          "data": {
            "text/html": [
              "<div>\n",
              "<style scoped>\n",
              "    .dataframe tbody tr th:only-of-type {\n",
              "        vertical-align: middle;\n",
              "    }\n",
              "\n",
              "    .dataframe tbody tr th {\n",
              "        vertical-align: top;\n",
              "    }\n",
              "\n",
              "    .dataframe thead th {\n",
              "        text-align: right;\n",
              "    }\n",
              "</style>\n",
              "<table border=\"1\" class=\"dataframe\">\n",
              "  <thead>\n",
              "    <tr style=\"text-align: right;\">\n",
              "      <th></th>\n",
              "      <th>Store</th>\n",
              "      <th>Type</th>\n",
              "      <th>Size</th>\n",
              "    </tr>\n",
              "  </thead>\n",
              "  <tbody>\n",
              "    <tr>\n",
              "      <th>0</th>\n",
              "      <td>1</td>\n",
              "      <td>A</td>\n",
              "      <td>151315</td>\n",
              "    </tr>\n",
              "    <tr>\n",
              "      <th>1</th>\n",
              "      <td>2</td>\n",
              "      <td>A</td>\n",
              "      <td>202307</td>\n",
              "    </tr>\n",
              "    <tr>\n",
              "      <th>2</th>\n",
              "      <td>3</td>\n",
              "      <td>B</td>\n",
              "      <td>37392</td>\n",
              "    </tr>\n",
              "    <tr>\n",
              "      <th>3</th>\n",
              "      <td>4</td>\n",
              "      <td>A</td>\n",
              "      <td>205863</td>\n",
              "    </tr>\n",
              "    <tr>\n",
              "      <th>4</th>\n",
              "      <td>5</td>\n",
              "      <td>B</td>\n",
              "      <td>34875</td>\n",
              "    </tr>\n",
              "  </tbody>\n",
              "</table>\n",
              "</div>"
            ],
            "text/plain": [
              "   Store Type    Size\n",
              "0      1    A  151315\n",
              "1      2    A  202307\n",
              "2      3    B   37392\n",
              "3      4    A  205863\n",
              "4      5    B   34875"
            ]
          },
          "metadata": {
            "tags": []
          },
          "execution_count": 105
        }
      ]
    },
    {
      "cell_type": "code",
      "metadata": {
        "id": "FXYZgv5gQtZC",
        "colab_type": "code",
        "outputId": "50a99119-59e8-4f76-bc40-ff904e82ff5b",
        "colab": {
          "base_uri": "https://localhost:8080/",
          "height": 398
        }
      },
      "source": [
        "# join will use the index and merged you can specify a column name\n",
        "# merge is more flexible if you don't have you use the index\n",
        "\n",
        "sd_merged = sales_data.merge(stores_list, how='left', left_on='Store', right_on='Store')\n",
        "sd_merged"
      ],
      "execution_count": 0,
      "outputs": [
        {
          "output_type": "execute_result",
          "data": {
            "text/html": [
              "<div>\n",
              "<style scoped>\n",
              "    .dataframe tbody tr th:only-of-type {\n",
              "        vertical-align: middle;\n",
              "    }\n",
              "\n",
              "    .dataframe tbody tr th {\n",
              "        vertical-align: top;\n",
              "    }\n",
              "\n",
              "    .dataframe thead th {\n",
              "        text-align: right;\n",
              "    }\n",
              "</style>\n",
              "<table border=\"1\" class=\"dataframe\">\n",
              "  <thead>\n",
              "    <tr style=\"text-align: right;\">\n",
              "      <th></th>\n",
              "      <th>Store</th>\n",
              "      <th>Dept</th>\n",
              "      <th>Date</th>\n",
              "      <th>Weekly_Sales</th>\n",
              "      <th>IsHoliday</th>\n",
              "      <th>Type</th>\n",
              "      <th>Size</th>\n",
              "    </tr>\n",
              "  </thead>\n",
              "  <tbody>\n",
              "    <tr>\n",
              "      <th>0</th>\n",
              "      <td>1</td>\n",
              "      <td>1</td>\n",
              "      <td>05/02/2010</td>\n",
              "      <td>24924.50</td>\n",
              "      <td>False</td>\n",
              "      <td>A</td>\n",
              "      <td>151315</td>\n",
              "    </tr>\n",
              "    <tr>\n",
              "      <th>1</th>\n",
              "      <td>1</td>\n",
              "      <td>1</td>\n",
              "      <td>12/02/2010</td>\n",
              "      <td>46039.49</td>\n",
              "      <td>True</td>\n",
              "      <td>A</td>\n",
              "      <td>151315</td>\n",
              "    </tr>\n",
              "    <tr>\n",
              "      <th>2</th>\n",
              "      <td>1</td>\n",
              "      <td>1</td>\n",
              "      <td>19/02/2010</td>\n",
              "      <td>41595.55</td>\n",
              "      <td>False</td>\n",
              "      <td>A</td>\n",
              "      <td>151315</td>\n",
              "    </tr>\n",
              "    <tr>\n",
              "      <th>3</th>\n",
              "      <td>1</td>\n",
              "      <td>1</td>\n",
              "      <td>26/02/2010</td>\n",
              "      <td>19403.54</td>\n",
              "      <td>False</td>\n",
              "      <td>A</td>\n",
              "      <td>151315</td>\n",
              "    </tr>\n",
              "    <tr>\n",
              "      <th>4</th>\n",
              "      <td>1</td>\n",
              "      <td>1</td>\n",
              "      <td>05/03/2010</td>\n",
              "      <td>21827.90</td>\n",
              "      <td>False</td>\n",
              "      <td>A</td>\n",
              "      <td>151315</td>\n",
              "    </tr>\n",
              "    <tr>\n",
              "      <th>...</th>\n",
              "      <td>...</td>\n",
              "      <td>...</td>\n",
              "      <td>...</td>\n",
              "      <td>...</td>\n",
              "      <td>...</td>\n",
              "      <td>...</td>\n",
              "      <td>...</td>\n",
              "    </tr>\n",
              "    <tr>\n",
              "      <th>421565</th>\n",
              "      <td>45</td>\n",
              "      <td>98</td>\n",
              "      <td>28/09/2012</td>\n",
              "      <td>508.37</td>\n",
              "      <td>False</td>\n",
              "      <td>B</td>\n",
              "      <td>118221</td>\n",
              "    </tr>\n",
              "    <tr>\n",
              "      <th>421566</th>\n",
              "      <td>45</td>\n",
              "      <td>98</td>\n",
              "      <td>05/10/2012</td>\n",
              "      <td>628.10</td>\n",
              "      <td>False</td>\n",
              "      <td>B</td>\n",
              "      <td>118221</td>\n",
              "    </tr>\n",
              "    <tr>\n",
              "      <th>421567</th>\n",
              "      <td>45</td>\n",
              "      <td>98</td>\n",
              "      <td>12/10/2012</td>\n",
              "      <td>1061.02</td>\n",
              "      <td>False</td>\n",
              "      <td>B</td>\n",
              "      <td>118221</td>\n",
              "    </tr>\n",
              "    <tr>\n",
              "      <th>421568</th>\n",
              "      <td>45</td>\n",
              "      <td>98</td>\n",
              "      <td>19/10/2012</td>\n",
              "      <td>760.01</td>\n",
              "      <td>False</td>\n",
              "      <td>B</td>\n",
              "      <td>118221</td>\n",
              "    </tr>\n",
              "    <tr>\n",
              "      <th>421569</th>\n",
              "      <td>45</td>\n",
              "      <td>98</td>\n",
              "      <td>26/10/2012</td>\n",
              "      <td>1076.80</td>\n",
              "      <td>False</td>\n",
              "      <td>B</td>\n",
              "      <td>118221</td>\n",
              "    </tr>\n",
              "  </tbody>\n",
              "</table>\n",
              "<p>421570 rows × 7 columns</p>\n",
              "</div>"
            ],
            "text/plain": [
              "        Store  Dept        Date  Weekly_Sales  IsHoliday Type    Size\n",
              "0           1     1  05/02/2010      24924.50      False    A  151315\n",
              "1           1     1  12/02/2010      46039.49       True    A  151315\n",
              "2           1     1  19/02/2010      41595.55      False    A  151315\n",
              "3           1     1  26/02/2010      19403.54      False    A  151315\n",
              "4           1     1  05/03/2010      21827.90      False    A  151315\n",
              "...       ...   ...         ...           ...        ...  ...     ...\n",
              "421565     45    98  28/09/2012        508.37      False    B  118221\n",
              "421566     45    98  05/10/2012        628.10      False    B  118221\n",
              "421567     45    98  12/10/2012       1061.02      False    B  118221\n",
              "421568     45    98  19/10/2012        760.01      False    B  118221\n",
              "421569     45    98  26/10/2012       1076.80      False    B  118221\n",
              "\n",
              "[421570 rows x 7 columns]"
            ]
          },
          "metadata": {
            "tags": []
          },
          "execution_count": 111
        }
      ]
    },
    {
      "cell_type": "code",
      "metadata": {
        "id": "kITnXu4zRdr9",
        "colab_type": "code",
        "outputId": "c6f57cc6-e7c2-44ff-e9cb-15045a84d14b",
        "colab": {
          "base_uri": "https://localhost:8080/",
          "height": 103
        }
      },
      "source": [
        "sd_merged.groupby('Type')['Weekly_Sales'].mean() # group by the type on the average (mean) weekly sales\n"
      ],
      "execution_count": 0,
      "outputs": [
        {
          "output_type": "execute_result",
          "data": {
            "text/plain": [
              "Type\n",
              "A    20099.568043\n",
              "B    12237.075977\n",
              "C     9519.532538\n",
              "Name: Weekly_Sales, dtype: float64"
            ]
          },
          "metadata": {
            "tags": []
          },
          "execution_count": 113
        }
      ]
    },
    {
      "cell_type": "code",
      "metadata": {
        "id": "h05mjOXCSjUW",
        "colab_type": "code",
        "outputId": "9040baf1-6b6b-4f2e-c918-61149f5f7bca",
        "colab": {
          "base_uri": "https://localhost:8080/",
          "height": 154
        }
      },
      "source": [
        "# This is most common to use one function with multiple columns\n",
        "sd_merged.groupby(['Type','IsHoliday'])['Weekly_Sales'].mean()"
      ],
      "execution_count": 0,
      "outputs": [
        {
          "output_type": "execute_result",
          "data": {
            "text/plain": [
              "Type  IsHoliday\n",
              "A     False        20008.746759\n",
              "      True         21297.517824\n",
              "B     False        12153.067752\n",
              "      True         13346.164062\n",
              "C     False         9518.528116\n",
              "      True          9532.963131\n",
              "Name: Weekly_Sales, dtype: float64"
            ]
          },
          "metadata": {
            "tags": []
          },
          "execution_count": 115
        }
      ]
    },
    {
      "cell_type": "code",
      "metadata": {
        "id": "reCU6JUdSjMD",
        "colab_type": "code",
        "outputId": "8edfd5d1-09d4-4e06-c85a-fe640928541c",
        "colab": {
          "base_uri": "https://localhost:8080/",
          "height": 281
        }
      },
      "source": [
        "sd_merged_complex_index = sd_merged.groupby(['Type','IsHoliday']).agg({'Weekly_Sales':['mean', 'std', 'std']})\n",
        "sd_merged_complex_index"
      ],
      "execution_count": 0,
      "outputs": [
        {
          "output_type": "execute_result",
          "data": {
            "text/html": [
              "<div>\n",
              "<style scoped>\n",
              "    .dataframe tbody tr th:only-of-type {\n",
              "        vertical-align: middle;\n",
              "    }\n",
              "\n",
              "    .dataframe tbody tr th {\n",
              "        vertical-align: top;\n",
              "    }\n",
              "\n",
              "    .dataframe thead tr th {\n",
              "        text-align: left;\n",
              "    }\n",
              "\n",
              "    .dataframe thead tr:last-of-type th {\n",
              "        text-align: right;\n",
              "    }\n",
              "</style>\n",
              "<table border=\"1\" class=\"dataframe\">\n",
              "  <thead>\n",
              "    <tr>\n",
              "      <th></th>\n",
              "      <th></th>\n",
              "      <th colspan=\"3\" halign=\"left\">Weekly_Sales</th>\n",
              "    </tr>\n",
              "    <tr>\n",
              "      <th></th>\n",
              "      <th></th>\n",
              "      <th>mean</th>\n",
              "      <th>std</th>\n",
              "      <th>std</th>\n",
              "    </tr>\n",
              "    <tr>\n",
              "      <th>Type</th>\n",
              "      <th>IsHoliday</th>\n",
              "      <th></th>\n",
              "      <th></th>\n",
              "      <th></th>\n",
              "    </tr>\n",
              "  </thead>\n",
              "  <tbody>\n",
              "    <tr>\n",
              "      <th rowspan=\"2\" valign=\"top\">A</th>\n",
              "      <th>False</th>\n",
              "      <td>20008.746759</td>\n",
              "      <td>26107.047984</td>\n",
              "      <td>26107.047984</td>\n",
              "    </tr>\n",
              "    <tr>\n",
              "      <th>True</th>\n",
              "      <td>21297.517824</td>\n",
              "      <td>30264.671745</td>\n",
              "      <td>30264.671745</td>\n",
              "    </tr>\n",
              "    <tr>\n",
              "      <th rowspan=\"2\" valign=\"top\">B</th>\n",
              "      <th>False</th>\n",
              "      <td>12153.067752</td>\n",
              "      <td>16558.647788</td>\n",
              "      <td>16558.647788</td>\n",
              "    </tr>\n",
              "    <tr>\n",
              "      <th>True</th>\n",
              "      <td>13346.164062</td>\n",
              "      <td>24128.821137</td>\n",
              "      <td>24128.821137</td>\n",
              "    </tr>\n",
              "    <tr>\n",
              "      <th rowspan=\"2\" valign=\"top\">C</th>\n",
              "      <th>False</th>\n",
              "      <td>9518.528116</td>\n",
              "      <td>15975.155545</td>\n",
              "      <td>15975.155545</td>\n",
              "    </tr>\n",
              "    <tr>\n",
              "      <th>True</th>\n",
              "      <td>9532.963131</td>\n",
              "      <td>16123.779035</td>\n",
              "      <td>16123.779035</td>\n",
              "    </tr>\n",
              "  </tbody>\n",
              "</table>\n",
              "</div>"
            ],
            "text/plain": [
              "                Weekly_Sales                            \n",
              "                        mean           std           std\n",
              "Type IsHoliday                                          \n",
              "A    False      20008.746759  26107.047984  26107.047984\n",
              "     True       21297.517824  30264.671745  30264.671745\n",
              "B    False      12153.067752  16558.647788  16558.647788\n",
              "     True       13346.164062  24128.821137  24128.821137\n",
              "C    False       9518.528116  15975.155545  15975.155545\n",
              "     True        9532.963131  16123.779035  16123.779035"
            ]
          },
          "metadata": {
            "tags": []
          },
          "execution_count": 117
        }
      ]
    },
    {
      "cell_type": "code",
      "metadata": {
        "id": "NLernYg_USL8",
        "colab_type": "code",
        "outputId": "64d7c574-549a-4212-f2cb-4e1a60be11fb",
        "colab": {
          "base_uri": "https://localhost:8080/",
          "height": 163
        }
      },
      "source": [
        "sd_merged_complex_reindex = sd_merged_complex_index.reset_index()"
      ],
      "execution_count": 0,
      "outputs": [
        {
          "output_type": "error",
          "ename": "NameError",
          "evalue": "ignored",
          "traceback": [
            "\u001b[0;31m---------------------------------------------------------------------------\u001b[0m",
            "\u001b[0;31mNameError\u001b[0m                                 Traceback (most recent call last)",
            "\u001b[0;32m<ipython-input-118-556fe2db56fc>\u001b[0m in \u001b[0;36m<module>\u001b[0;34m()\u001b[0m\n\u001b[0;32m----> 1\u001b[0;31m \u001b[0msd_merged_complex_reindex\u001b[0m \u001b[0;34m=\u001b[0m \u001b[0msd_merged_complex_index\u001b[0m\u001b[0;34m.\u001b[0m\u001b[0mreset_index\u001b[0m\u001b[0;34m(\u001b[0m\u001b[0;34m)\u001b[0m\u001b[0;34m\u001b[0m\u001b[0;34m\u001b[0m\u001b[0m\n\u001b[0m",
            "\u001b[0;31mNameError\u001b[0m: name 'sd_merged_complex_index' is not defined"
          ]
        }
      ]
    }
  ]
}